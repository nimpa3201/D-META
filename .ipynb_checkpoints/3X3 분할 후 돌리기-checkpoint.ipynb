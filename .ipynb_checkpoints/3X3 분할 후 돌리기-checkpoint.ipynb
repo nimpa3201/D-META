{
 "cells": [
  {
   "cell_type": "code",
   "execution_count": 1,
   "id": "bf40adf7",
   "metadata": {},
   "outputs": [
    {
     "ename": "NameError",
     "evalue": "name 'AlbumentationsDataset' is not defined",
     "output_type": "error",
     "traceback": [
      "\u001b[0;31m---------------------------------------------------------------------------\u001b[0m",
      "\u001b[0;31mNameError\u001b[0m                                 Traceback (most recent call last)",
      "\u001b[0;32m/var/folders/2f/z94_frrn061607c3c3jywlnh0000gn/T/ipykernel_1104/408825044.py\u001b[0m in \u001b[0;36m<module>\u001b[0;34m\u001b[0m\n\u001b[0;32m----> 1\u001b[0;31m albumentations_dataset = AlbumentationsDataset(\n\u001b[0m\u001b[1;32m      2\u001b[0m     \u001b[0mfile_paths\u001b[0m\u001b[0;34m=\u001b[0m\u001b[0;34m[\u001b[0m\u001b[0;34m\"3X3/1.jpg\"\u001b[0m\u001b[0;34m]\u001b[0m\u001b[0;34m,\u001b[0m\u001b[0;34m\u001b[0m\u001b[0;34m\u001b[0m\u001b[0m\n\u001b[1;32m      3\u001b[0m     \u001b[0mlabels\u001b[0m\u001b[0;34m=\u001b[0m\u001b[0;34m[\u001b[0m\u001b[0;36m1\u001b[0m\u001b[0;34m]\u001b[0m\u001b[0;34m,\u001b[0m\u001b[0;34m\u001b[0m\u001b[0;34m\u001b[0m\u001b[0m\n\u001b[1;32m      4\u001b[0m     \u001b[0mtransform\u001b[0m\u001b[0;34m=\u001b[0m\u001b[0malbumentations_transform_oneof\u001b[0m\u001b[0;34m,\u001b[0m\u001b[0;34m\u001b[0m\u001b[0;34m\u001b[0m\u001b[0m\n\u001b[1;32m      5\u001b[0m )\n",
      "\u001b[0;31mNameError\u001b[0m: name 'AlbumentationsDataset' is not defined"
     ]
    }
   ],
   "source": [
    "from PIL import Image\n",
    "import cv2\n",
    "import numpy as np\n",
    "import time\n",
    "import torch\n",
    "import torchvision\n",
    "from torch.utils.data import Dataset\n",
    "from torchvision import transforms\n",
    "import albumentations\n",
    "from matplotlib import pyplot as plt\n",
    "\n",
    "albumentations_transform_oneof = albumentations.Compose([\n",
    "    albumentations.Resize(256, 256), \n",
    "    albumentations.RandomCrop(224, 224),\n",
    "    albumentations.OneOf([\n",
    "                          albumentations.HorizontalFlip(p=0.5),\n",
    "                          albumentations.RandomRotate90(p=0.5),\n",
    "                          albumentations.VerticalFlip(p=0.5)            \n",
    "    ], p=1),\n",
    "    albumentations.OneOf([\n",
    "                          albumentations.MotionBlur(p=1),\n",
    "                          albumentations.OpticalDistortion(p=1),\n",
    "                          albumentations.GaussNoise(p=1)                 \n",
    "    ], p=1),\n",
    "   \n",
    "])"
   ]
  },
  {
   "cell_type": "code",
   "execution_count": null,
   "id": "1b93acfb",
   "metadata": {},
   "outputs": [],
   "source": []
  }
 ],
 "metadata": {
  "kernelspec": {
   "display_name": "Python 3 (ipykernel)",
   "language": "python",
   "name": "python3"
  },
  "language_info": {
   "codemirror_mode": {
    "name": "ipython",
    "version": 3
   },
   "file_extension": ".py",
   "mimetype": "text/x-python",
   "name": "python",
   "nbconvert_exporter": "python",
   "pygments_lexer": "ipython3",
   "version": "3.9.13"
  }
 },
 "nbformat": 4,
 "nbformat_minor": 5
}
