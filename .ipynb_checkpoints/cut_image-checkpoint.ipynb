{
 "cells": [
  {
   "cell_type": "code",
   "execution_count": 4,
   "id": "professional-saturday",
   "metadata": {},
   "outputs": [
    {
     "name": "stdout",
     "output_type": "stream",
     "text": [
      "(600, 495)\n",
      "2 2\n",
      "0 0 300 300\n",
      "save file C:/Users/User/디메타/00000.jpg....\n",
      "300 0 600 300\n",
      "save file C:/Users/User/디메타/00001.jpg....\n",
      "0 300 300 600\n",
      "save file C:/Users/User/디메타/00002.jpg....\n",
      "300 300 600 600\n",
      "save file C:/Users/User/디메타/00003.jpg....\n"
     ]
    }
   ],
   "source": [
    "from PIL import Image\n",
    "def image_crop( infilename , save_path):\n",
    "    \"\"\"\n",
    "    image file 와 crop한이미지를 저장할 path 을 입력받아 crop_img를 저장한다.\n",
    "    :param infilename:\n",
    "        crop할 대상 image file 입력으로 넣는다.\n",
    "    :param save_path:\n",
    "        crop_image file의 저장 경로를 넣는다.\n",
    "    :return:\n",
    "    \"\"\"\n",
    " \n",
    "    img = Image.open( infilename )\n",
    "    (img_h, img_w) = img.size\n",
    "    print(img.size)\n",
    " \n",
    "    # crop 할 사이즈 : grid_w, grid_h\n",
    "    grid_w = 300 # crop width\n",
    "    grid_h = 300 # crop height\n",
    "    range_w = (int)(img_w/205)\n",
    "    range_h = (int)(img_h/205)\n",
    "    print(range_w, range_h)\n",
    " \n",
    "    i = 0\n",
    " \n",
    "    for w in range(range_w):\n",
    "        for h in range(range_h):\n",
    "            bbox = (h*grid_h, w*grid_w, (h+1)*(grid_h), (w+1)*(grid_w))\n",
    "            print(h*grid_h, w*grid_w, (h+1)*(grid_h), (w+1)*(grid_w))\n",
    "            # 가로 세로 시작, 가로 세로 끝\n",
    "            crop_img = img.crop(bbox)\n",
    " \n",
    "            fname = \"{}.jpg\".format(\"{0:05d}\".format(i))\n",
    "            savename = save_path + fname\n",
    "            crop_img.save(savename)\n",
    "            print('save file ' + savename + '....')\n",
    "            i += 1\n",
    "if __name__ == '__main__':\n",
    "    image_crop('cat.jpg' ,'C:/Users/User/디메타/')\n",
    " "
   ]
  },
  {
   "cell_type": "code",
   "execution_count": null,
   "id": "studied-anaheim",
   "metadata": {},
   "outputs": [],
   "source": []
  }
 ],
 "metadata": {
  "kernelspec": {
   "display_name": "Python 3",
   "language": "python",
   "name": "python3"
  },
  "language_info": {
   "codemirror_mode": {
    "name": "ipython",
    "version": 3
   },
   "file_extension": ".py",
   "mimetype": "text/x-python",
   "name": "python",
   "nbconvert_exporter": "python",
   "pygments_lexer": "ipython3",
   "version": "3.6.8"
  }
 },
 "nbformat": 4,
 "nbformat_minor": 5
}
