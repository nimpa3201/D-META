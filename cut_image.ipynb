{
 "cells": [
  {
   "cell_type": "code",
   "execution_count": 7,
   "id": "professional-saturday",
   "metadata": {},
   "outputs": [
    {
     "name": "stdout",
     "output_type": "stream",
     "text": [
      "3 4\n",
      "0 0 100 100\n",
      "save file 디메타00000.jpg....\n",
      "100 0 200 100\n",
      "save file 디메타00001.jpg....\n",
      "200 0 300 100\n",
      "save file 디메타00002.jpg....\n",
      "300 0 400 100\n",
      "save file 디메타00003.jpg....\n",
      "0 100 100 200\n",
      "save file 디메타00004.jpg....\n",
      "100 100 200 200\n",
      "save file 디메타00005.jpg....\n",
      "200 100 300 200\n",
      "save file 디메타00006.jpg....\n",
      "300 100 400 200\n",
      "save file 디메타00007.jpg....\n",
      "0 200 100 300\n",
      "save file 디메타00008.jpg....\n",
      "100 200 200 300\n",
      "save file 디메타00009.jpg....\n",
      "200 200 300 300\n",
      "save file 디메타00010.jpg....\n",
      "300 200 400 300\n",
      "save file 디메타00011.jpg....\n"
     ]
    }
   ],
   "source": [
    "from PIL import Image\n",
    "def image_crop( infilename , save_path):\n",
    "    \n",
    " \n",
    "    img = Image.open( infilename )\n",
    "    (img_h, img_w) = img.size\n",
    " \n",
    "    # crop 할 사이즈 : grid_w, grid_h\n",
    "    grid_w = 100 # crop width\n",
    "    grid_h = 100 # crop height\n",
    "    range_w = (int)(img_w/150)\n",
    "    range_h = (int)(img_h/150)\n",
    "    print(range_w, range_h)\n",
    " \n",
    "    i = 0\n",
    " \n",
    "    for w in range(range_w):\n",
    "        for h in range(range_h):\n",
    "            bbox = (h*grid_h, w*grid_w, (h+1)*(grid_h), (w+1)*(grid_w))\n",
    "            print(h*grid_h, w*grid_w, (h+1)*(grid_h), (w+1)*(grid_w))\n",
    "            # 가로 세로 시작, 가로 세로 끝\n",
    "            crop_img = img.crop(bbox)\n",
    " \n",
    "            fname = \"{}.jpg\".format(\"{0:05d}\".format(i))\n",
    "            savename = save_path + fname\n",
    "            crop_img.save(savename)\n",
    "            print('save file ' + savename + '....')\n",
    "            i += 1\n",
    "if __name__ == '__main__':\n",
    "    image_crop('cat.jpg' ,'디메타')"
   ]
  },
  {
   "cell_type": "code",
   "execution_count": null,
   "id": "studied-anaheim",
   "metadata": {},
   "outputs": [],
   "source": []
  },
  {
   "cell_type": "code",
   "execution_count": null,
   "id": "4e57ba15",
   "metadata": {},
   "outputs": [],
   "source": []
  }
 ],
 "metadata": {
  "kernelspec": {
   "display_name": "Python 3 (ipykernel)",
   "language": "python",
   "name": "python3"
  },
  "language_info": {
   "codemirror_mode": {
    "name": "ipython",
    "version": 3
   },
   "file_extension": ".py",
   "mimetype": "text/x-python",
   "name": "python",
   "nbconvert_exporter": "python",
   "pygments_lexer": "ipython3",
   "version": "3.9.13"
  }
 },
 "nbformat": 4,
 "nbformat_minor": 5
}
